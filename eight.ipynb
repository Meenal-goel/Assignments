{
 "cells": [
  {
   "cell_type": "code",
   "execution_count": 26,
   "metadata": {},
   "outputs": [
    {
     "name": "stdout",
     "output_type": "stream",
     "text": [
      "y_intercept: 2279263.834730883\n",
      "slope: [-1.42845565e-06 -3.11916892e+04  3.70674551e+04  1.06405021e+02\n",
      "  2.31190640e-01  1.21696578e+04  5.91302778e+05  5.36473167e+04\n",
      "  2.64121098e+04  9.59065827e+04  6.47047400e+01  4.17002805e+01\n",
      " -2.58568782e+03  1.58736169e+01 -5.25001730e+02  6.05793401e+05\n",
      " -2.02972152e+05  2.87099261e+01 -4.92228648e-01]\n"
     ]
    }
   ],
   "source": [
    "'''Do feature engineering and split the dataset 70-30. And train the model to 30% of the dataset on a\\\n",
    "linear regression model and compare accuracy.'''\n",
    "\n",
    "#FEATURE ENGINEERING\n",
    "'''Firstly, The given dataset has a column date which is not playing a major role in house price prediction, \\\n",
    "hence we eliminate it .\n",
    "Secondly , all other features can be used to predict the price hence it would be multidimensional linear \\\n",
    "regression as price list is not countable '''\n",
    "\n",
    "#Training Data-70%\n",
    "import pandas as pd\n",
    "from sklearn.model_selection import train_test_split\n",
    "\n",
    "dataset = pd.read_csv(\"C:/Users/hp/Desktop/Machine_Learning/Assignments/kc_house_data1.csv\")\n",
    "x = dataset[[\"id\",\"bedrooms\",\"bathrooms\",\"sqft_living\",\"sqft_lot\",\"floors\",\"waterfront\",\"view\",\"condition\",\n",
    "\"grade\",\"sqft_above\",\"sqft_basement\",\"yr_built\",\"yr_renovated\",\"zipcode\",\"lat\",\"long\",\"sqft_living15\",\"sqft_lot15\"]]\n",
    "y = dataset[\"price\"]\n",
    "\n",
    "x_train, x_test, y_train, y_test = train_test_split(x,y,test_size = 0.3,random_state = 0)\n",
    "\n",
    "from sklearn.linear_model import LinearRegression\n",
    "#performing linear regression\n",
    "regressor = LinearRegression()\n",
    "regressor.fit(x_train,y_train)\n",
    "print(\"y_intercept:\",regressor.intercept_)\n",
    "print(\"slope:\",regressor.coef_)\n",
    "\n"
   ]
  },
  {
   "cell_type": "code",
   "execution_count": 37,
   "metadata": {},
   "outputs": [
    {
     "name": "stdout",
     "output_type": "stream",
     "text": [
      "          actual     predicted\n",
      "17384   297000.0  3.894817e+05\n",
      "722    1578000.0  1.524663e+06\n",
      "2680    562100.0  5.441660e+05\n",
      "18754   631500.0  5.772479e+05\n",
      "14554   780000.0  9.748460e+05\n",
      "16227   485000.0  3.708155e+05\n",
      "6631    340000.0  4.019138e+05\n",
      "19813   335606.0  3.782077e+05\n",
      "3367    425000.0  5.616345e+05\n",
      "21372   490000.0  1.202055e+06\n",
      "3268    732000.0  7.161405e+05\n",
      "20961   389700.0  3.610886e+05\n",
      "21456   450000.0  3.846832e+05\n",
      "3880    357000.0  2.885281e+05\n",
      "17472   960000.0  8.503375e+05\n",
      "7618    257000.0  3.913731e+05\n",
      "1091    448000.0  3.373463e+05\n",
      "1560    610000.0  6.719646e+05\n",
      "8945    230950.0  3.346624e+05\n",
      "8439    377500.0  5.540378e+05\n",
      "13058   375000.0  3.470805e+05\n",
      "12080   410000.0  3.911638e+05\n",
      "7417    459000.0  6.137584e+05\n",
      "3101    190000.0  1.915205e+05\n",
      "18769   585000.0  5.968223e+05\n",
      "7332    280000.0  2.877409e+05\n",
      "19186   500000.0  4.604732e+05\n",
      "11875   465000.0  6.485987e+05\n",
      "14100   802000.0  8.891608e+05\n",
      "10641   440000.0  4.947967e+05\n",
      "...          ...           ...\n",
      "5838    980000.0  8.721821e+05\n",
      "17350   520000.0  5.559806e+05\n",
      "17675   325000.0  5.728900e+05\n",
      "3572    770000.0  4.592571e+05\n",
      "16888   995000.0  1.499991e+06\n",
      "21433   465750.0  6.995599e+05\n",
      "18026   575000.0  5.050673e+05\n",
      "6588    425000.0  4.187153e+05\n",
      "11504   398500.0  5.429198e+05\n",
      "530     270500.0  2.592977e+05\n",
      "4897    310000.0  2.791177e+05\n",
      "9185    190000.0  1.965260e+05\n",
      "13245   492000.0  6.245731e+05\n",
      "4264    235000.0  2.588215e+05\n",
      "7673    765000.0  9.789408e+05\n",
      "13167   530000.0  5.192820e+05\n",
      "21174   525000.0  7.304577e+05\n",
      "16924   226000.0  3.590131e+05\n",
      "19310   624000.0  6.240172e+05\n",
      "1916    500000.0  5.192684e+05\n",
      "15231   467500.0  5.025798e+05\n",
      "8210    203000.0  2.016059e+05\n",
      "12860   446000.0  4.450136e+05\n",
      "12947   206000.0  1.961893e+05\n",
      "21490   529000.0  6.365325e+05\n",
      "18588  1100000.0  4.941082e+05\n",
      "6784    700000.0  5.364260e+05\n",
      "14510   380000.0  3.190237e+05\n",
      "18917   268000.0  2.256691e+05\n",
      "11750   206000.0  1.452141e+05\n",
      "\n",
      "[6484 rows x 2 columns]\n"
     ]
    }
   ],
   "source": [
    "#prediction\n",
    "y_pred = regressor.predict(x_test)\n",
    "dataset = pd.DataFrame({\"actual\":y_test,\"predicted\":y_pred})\n",
    "print(dataset)"
   ]
  },
  {
   "cell_type": "code",
   "execution_count": 38,
   "metadata": {},
   "outputs": [
    {
     "name": "stdout",
     "output_type": "stream",
     "text": [
      "MAE 124004.42210426605\n",
      "MSE 42857272313.08914\n",
      "RMSE 207019.9804682851\n"
     ]
    }
   ],
   "source": [
    "#evaluating\n",
    "import numpy as np\n",
    "from sklearn import metrics\n",
    "print(\"MAE\",metrics.mean_absolute_error(y_test,y_pred))\n",
    "print(\"MSE\",metrics.mean_squared_error(y_test,y_pred))\n",
    "print(\"RMSE\",np.sqrt(metrics.mean_squared_error(y_test,y_pred)))\n"
   ]
  },
  {
   "cell_type": "code",
   "execution_count": 40,
   "metadata": {},
   "outputs": [
    {
     "name": "stdout",
     "output_type": "stream",
     "text": [
      "y_intercept: -4397078.708521921\n",
      "slope: [-8.09340544e-07 -2.21547654e+04  4.07852667e+04  9.29188499e+01\n",
      "  2.27827395e-01  1.41796016e+04  6.90870756e+05  5.59774531e+04\n",
      "  2.46377863e+04  9.47202297e+04  5.67761849e+01  3.61426651e+01\n",
      " -2.47352227e+03  1.82415324e+01 -4.43847526e+02  6.09416447e+05\n",
      " -1.89272019e+05  3.27694943e+01 -3.85188290e-01]\n"
     ]
    }
   ],
   "source": [
    "#Training Data-30%\n",
    "import pandas as pd\n",
    "from sklearn.model_selection import train_test_split\n",
    "\n",
    "dataset = pd.read_csv(\"C:/Users/hp/Desktop/Machine_Learning/Assignments/kc_house_data1.csv\")\n",
    "x = dataset[[\"id\",\"bedrooms\",\"bathrooms\",\"sqft_living\",\"sqft_lot\",\"floors\",\"waterfront\",\"view\",\"condition\",\n",
    "\"grade\",\"sqft_above\",\"sqft_basement\",\"yr_built\",\"yr_renovated\",\"zipcode\",\"lat\",\"long\",\"sqft_living15\",\"sqft_lot15\"]]\n",
    "y = dataset[\"price\"]\n",
    "\n",
    "x_train, x_test, y_train, y_test = train_test_split(x,y,test_size = 0.7,random_state = 0)\n",
    "\n",
    "from sklearn.linear_model import LinearRegression\n",
    "#performing linear regression\n",
    "regressor = LinearRegression()\n",
    "regressor.fit(x_train,y_train)\n",
    "print(\"y_intercept:\",regressor.intercept_)\n",
    "print(\"slope:\",regressor.coef_)\n",
    "\n"
   ]
  },
  {
   "cell_type": "code",
   "execution_count": 41,
   "metadata": {},
   "outputs": [
    {
     "name": "stdout",
     "output_type": "stream",
     "text": [
      "          actual     predicted\n",
      "17384   297000.0  3.904308e+05\n",
      "722    1578000.0  1.477426e+06\n",
      "2680    562100.0  5.275976e+05\n",
      "18754   631500.0  5.697050e+05\n",
      "14554   780000.0  9.706412e+05\n",
      "16227   485000.0  3.804978e+05\n",
      "6631    340000.0  4.027191e+05\n",
      "19813   335606.0  3.699232e+05\n",
      "3367    425000.0  5.638267e+05\n",
      "21372   490000.0  1.183940e+06\n",
      "3268    732000.0  7.038782e+05\n",
      "20961   389700.0  3.706784e+05\n",
      "21456   450000.0  3.923343e+05\n",
      "3880    357000.0  3.001822e+05\n",
      "17472   960000.0  8.285640e+05\n",
      "7618    257000.0  3.860794e+05\n",
      "1091    448000.0  3.481551e+05\n",
      "1560    610000.0  6.606750e+05\n",
      "8945    230950.0  3.318784e+05\n",
      "8439    377500.0  5.632049e+05\n",
      "13058   375000.0  3.499431e+05\n",
      "12080   410000.0  3.905955e+05\n",
      "7417    459000.0  6.359664e+05\n",
      "3101    190000.0  2.001181e+05\n",
      "18769   585000.0  5.993717e+05\n",
      "7332    280000.0  2.940263e+05\n",
      "19186   500000.0  4.716923e+05\n",
      "11875   465000.0  6.481655e+05\n",
      "14100   802000.0  8.814633e+05\n",
      "10641   440000.0  4.934627e+05\n",
      "...          ...           ...\n",
      "8109    440000.0  5.401155e+05\n",
      "16598   635700.0  8.170980e+05\n",
      "10690  1065000.0  9.748891e+05\n",
      "6671    870000.0  1.063931e+06\n",
      "14400   547000.0  4.875636e+05\n",
      "2961    464000.0  4.977128e+05\n",
      "1439    459000.0  4.731785e+05\n",
      "15639   334950.0  2.716129e+05\n",
      "12752   606150.0  5.115046e+05\n",
      "2225    665000.0  7.095133e+05\n",
      "14500   462370.0  5.569375e+05\n",
      "5326    774000.0  7.536154e+05\n",
      "13206   324950.0  4.569437e+05\n",
      "9885    505000.0  5.413362e+05\n",
      "4479    315001.0  2.550808e+05\n",
      "17189   993500.0  1.110090e+06\n",
      "10028   390000.0  3.694942e+05\n",
      "6694    509990.0  3.427623e+05\n",
      "2165    238000.0  1.023959e+05\n",
      "687     507000.0  4.279154e+05\n",
      "3633    406500.0  6.382306e+05\n",
      "20059   650000.0  4.653735e+05\n",
      "18421   240000.0  2.957342e+05\n",
      "11219   393000.0  3.285392e+05\n",
      "7897    367000.0  5.880787e+05\n",
      "14109   274950.0  1.967404e+05\n",
      "10793   521000.0  5.148688e+05\n",
      "16299  1057000.0  1.233207e+06\n",
      "17228   299900.0  5.029155e+05\n",
      "7098    395000.0  5.423601e+05\n",
      "\n",
      "[15130 rows x 2 columns]\n"
     ]
    }
   ],
   "source": [
    "#prediction\n",
    "y_pred = regressor.predict(x_test)\n",
    "dataset = pd.DataFrame({\"actual\":y_test,\"predicted\":y_pred})\n",
    "print(dataset)"
   ]
  },
  {
   "cell_type": "code",
   "execution_count": 42,
   "metadata": {},
   "outputs": [
    {
     "name": "stdout",
     "output_type": "stream",
     "text": [
      "MAE 124690.94206727664\n",
      "MSE 43472715423.87313\n",
      "RMSE 208501.11612140865\n"
     ]
    }
   ],
   "source": [
    "#evaluating 30% trained dataset\n",
    "import numpy as np\n",
    "from sklearn import metrics\n",
    "print(\"MAE\",metrics.mean_absolute_error(y_test,y_pred))\n",
    "print(\"MSE\",metrics.mean_squared_error(y_test,y_pred))\n",
    "print(\"RMSE\",np.sqrt(metrics.mean_squared_error(y_test,y_pred)))\n"
   ]
  },
  {
   "cell_type": "code",
   "execution_count": null,
   "metadata": {},
   "outputs": [],
   "source": [
    "'''COMPARING ACCURACY\n",
    "Error when training 70% data:\n",
    "MAE 124004.42210426605\n",
    "MSE 42857272313.08914\n",
    "RMSE 207019.9804682851\n",
    "\n",
    "Error when training 30% data:\n",
    "MAE 124690.94206727664\n",
    "MSE 43472715423.87313\n",
    "RMSE 208501.11612140865\n",
    "\n",
    "We can see accuracy level is higher while training 70% of the data instead to training 30% of the data as \\\n",
    "then the errors in 70% trained data are less than errors in 30% trained data,hence the data to be tested 30% would\\\n",
    "generate more accurate results'''\n",
    "\n"
   ]
  },
  {
   "cell_type": "code",
   "execution_count": 10,
   "metadata": {},
   "outputs": [
    {
     "data": {
      "text/plain": [
       "array([[0.72010308, 0.09090909, 0.125     , ..., 0.16193426, 0.00574235,\n",
       "        0.01926557],\n",
       "       [0.64785332, 0.09090909, 0.28125   , ..., 0.22216486, 0.00802712,\n",
       "        0.06072131],\n",
       "       [0.56879485, 0.06060606, 0.125     , ..., 0.3994149 , 0.00851302,\n",
       "        0.01377049],\n",
       "       ...,\n",
       "       [0.15378321, 0.06060606, 0.09375   , ..., 0.10686629, 0.00155764,\n",
       "        0.04289849],\n",
       "       [0.0293272 , 0.09090909, 0.3125    , ..., 0.17398038, 0.00073057,\n",
       "        0.04262295],\n",
       "       [0.15378321, 0.06060606, 0.09375   , ..., 0.10686629, 0.00081098,\n",
       "        0.03278689]])"
      ]
     },
     "execution_count": 10,
     "metadata": {},
     "output_type": "execute_result"
    }
   ],
   "source": [
    "#NORMALISTION\n",
    "import pandas as pd\n",
    "from sklearn.preprocessing import MinMaxScaler\n",
    "\n",
    "\n",
    "data = pd.read_csv(\"C:/Users/hp/Desktop/Machine_Learning/Assignments/kc_house_data1.csv\")\n",
    "x = data[[\"id\",\"bedrooms\",\"bathrooms\",\"sqft_living\",\"sqft_lot\",\"floors\",\"waterfront\",\"view\",\"condition\",\n",
    "\"grade\",\"sqft_above\",\"sqft_basement\",\"yr_built\",\"yr_renovated\",\"zipcode\",\"lat\",\"long\",\"sqft_living15\",\n",
    "\"sqft_lot15\",\"price\"]]\n",
    "\n",
    "MinMaxScaler().fit_transform(x)"
   ]
  },
  {
   "cell_type": "code",
   "execution_count": 11,
   "metadata": {},
   "outputs": [
    {
     "data": {
      "text/plain": [
       "array([[ 0.88614631, -0.39873715, -1.44746357, ..., -0.9433552 ,\n",
       "        -0.26071541, -0.86671733],\n",
       "       [ 0.63751062, -0.39873715,  0.1756067 , ..., -0.43268619,\n",
       "        -0.18786773, -0.00568792],\n",
       "       [ 0.36544385, -1.47395936, -1.44746357, ...,  1.07013975,\n",
       "        -0.17237524, -0.98084935],\n",
       "       ...,\n",
       "       [-1.06275071, -1.47395936, -1.77207762, ..., -1.41025258,\n",
       "        -0.39414129, -0.37586519],\n",
       "       [-1.49104567, -0.39873715,  0.50022075, ..., -0.8412214 ,\n",
       "        -0.42051149, -0.38158814],\n",
       "       [-1.0627507 , -1.47395936, -1.77207762, ..., -1.41025258,\n",
       "        -0.41794772, -0.58588173]])"
      ]
     },
     "execution_count": 11,
     "metadata": {},
     "output_type": "execute_result"
    }
   ],
   "source": [
    "#STANDARDISATION\n",
    "import pandas as pd\n",
    "from sklearn.preprocessing import StandardScaler\n",
    "\n",
    "\n",
    "data = pd.read_csv(\"C:/Users/hp/Desktop/Machine_Learning/Assignments/kc_house_data1.csv\")\n",
    "x = data[[\"id\",\"bedrooms\",\"bathrooms\",\"sqft_living\",\"sqft_lot\",\"floors\",\"waterfront\",\"view\",\"condition\",\n",
    "\"grade\",\"sqft_above\",\"sqft_basement\",\"yr_built\",\"yr_renovated\",\"zipcode\",\"lat\",\"long\",\"sqft_living15\",\n",
    "\"sqft_lot15\",\"price\"]]\n",
    "\n",
    "StandardScaler().fit_transform(x)"
   ]
  },
  {
   "cell_type": "code",
   "execution_count": null,
   "metadata": {},
   "outputs": [],
   "source": []
  },
  {
   "cell_type": "code",
   "execution_count": null,
   "metadata": {},
   "outputs": [],
   "source": []
  }
 ],
 "metadata": {
  "kernelspec": {
   "display_name": "Python 3",
   "language": "python",
   "name": "python3"
  },
  "language_info": {
   "codemirror_mode": {
    "name": "ipython",
    "version": 3
   },
   "file_extension": ".py",
   "mimetype": "text/x-python",
   "name": "python",
   "nbconvert_exporter": "python",
   "pygments_lexer": "ipython3",
   "version": "3.6.5"
  }
 },
 "nbformat": 4,
 "nbformat_minor": 2
}
