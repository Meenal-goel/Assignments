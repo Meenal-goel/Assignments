{
 "cells": [
  {
   "cell_type": "code",
   "execution_count": null,
   "metadata": {},
   "outputs": [],
   "source": [
    "#Q.1- What is the probability of a person playing when the weather is sunny? Find P(Yes|Sunny).\n",
    "\n",
    "#using baye's theorem\n",
    "\n",
    "'''\n",
    "P(Yes|Sunny) = (P(Yes)*P(Sunny|Yes))/P(Sunny)\n",
    "P(Yes|Sunny) = (P(Yes)*P(Sunny|Yes))/(P(Yes intr Sunny) + P(No intr Sunny))\n",
    "             = ((1/2) * (3/5)) /((1/2*3/5) + (1/2 * 2/5))\n",
    "             = (3/10) / (3/10 + 2/10)\n",
    "             = (3/10) / (5/10)\n",
    "             = 3/5\n",
    "'''"
   ]
  },
  {
   "cell_type": "code",
   "execution_count": 3,
   "metadata": {},
   "outputs": [
    {
     "name": "stdout",
     "output_type": "stream",
     "text": [
      "[[16  0  0]\n",
      " [ 0 14  4]\n",
      " [ 0  5  6]]\n",
      "             precision    recall  f1-score   support\n",
      "\n",
      "          0       1.00      1.00      1.00        16\n",
      "          1       0.74      0.78      0.76        18\n",
      "          2       0.60      0.55      0.57        11\n",
      "\n",
      "avg / total       0.80      0.80      0.80        45\n",
      "\n"
     ]
    }
   ],
   "source": [
    "'''\n",
    "Q.2- Solve the following:\n",
    "a) Import iris dataset from sklearn.'''\n",
    "\n",
    "from sklearn import datasets\n",
    "from sklearn.model_selection import train_test_split\n",
    "\n",
    "# import iris dataset\n",
    "iris = datasets.load_iris()\n",
    "x = iris.data[:, :2]  # we only take the first two features.\n",
    "y = iris.target\n",
    "\n",
    "#b) Split the dataset into training and testing sets using train_test_split() \n",
    "x_train, x_test, y_train, y_test = train_test_split(x,y,test_size = 0.3,random_state = 0)\n",
    "\n",
    "'''c) Use GaussianNB and print the following:\n",
    "i. Confusion matrix\n",
    "ii. Classification report\n",
    "'''\n",
    "from sklearn.naive_bayes import GaussianNB\n",
    "classifier = GaussianNB()\n",
    "classifier.fit(x_train,y_train)\n",
    "y_pred = classifier.predict(x_test)\n",
    "\n",
    "from sklearn.metrics import classification_report, confusion_matrix\n",
    "print(confusion_matrix(y_test, y_pred))\n",
    "print(classification_report(y_test, y_pred))"
   ]
  },
  {
   "cell_type": "code",
   "execution_count": 4,
   "metadata": {},
   "outputs": [
    {
     "name": "stdout",
     "output_type": "stream",
     "text": [
      "[[13  0  3]\n",
      " [ 0  0 18]\n",
      " [ 0  0 11]]\n",
      "             precision    recall  f1-score   support\n",
      "\n",
      "          0       1.00      0.81      0.90        16\n",
      "          1       0.00      0.00      0.00        18\n",
      "          2       0.34      1.00      0.51        11\n",
      "\n",
      "avg / total       0.44      0.53      0.44        45\n",
      "\n"
     ]
    },
    {
     "name": "stderr",
     "output_type": "stream",
     "text": [
      "E:\\anaconda\\lib\\site-packages\\sklearn\\metrics\\classification.py:1135: UndefinedMetricWarning: Precision and F-score are ill-defined and being set to 0.0 in labels with no predicted samples.\n",
      "  'precision', 'predicted', average, warn_for)\n"
     ]
    }
   ],
   "source": [
    "'''d) Use MultinomialNB and print the following:\n",
    "i. Confusion matrix\n",
    "ii. Classification report'''\n",
    "\n",
    "from sklearn.naive_bayes import MultinomialNB\n",
    "classifier = MultinomialNB()\n",
    "classifier.fit(x_train,y_train)\n",
    "y_pred = classifier.predict(x_test)\n",
    "\n",
    "from sklearn.metrics import classification_report, confusion_matrix\n",
    "print(confusion_matrix(y_test, y_pred))\n",
    "print(classification_report(y_test, y_pred))"
   ]
  },
  {
   "cell_type": "code",
   "execution_count": null,
   "metadata": {},
   "outputs": [],
   "source": []
  }
 ],
 "metadata": {
  "kernelspec": {
   "display_name": "Python 3",
   "language": "python",
   "name": "python3"
  },
  "language_info": {
   "codemirror_mode": {
    "name": "ipython",
    "version": 3
   },
   "file_extension": ".py",
   "mimetype": "text/x-python",
   "name": "python",
   "nbconvert_exporter": "python",
   "pygments_lexer": "ipython3",
   "version": "3.6.5"
  }
 },
 "nbformat": 4,
 "nbformat_minor": 2
}
