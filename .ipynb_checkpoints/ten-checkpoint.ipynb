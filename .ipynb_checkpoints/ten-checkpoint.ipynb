{
 "cells": [
  {
   "cell_type": "code",
   "execution_count": 2,
   "metadata": {},
   "outputs": [],
   "source": [
    "#Q.1- Load the dataset from sklearn\n",
    "from sklearn.datasets import load_digits\n",
    "from sklearn import svm\n",
    "digits = load_digits()\n",
    "\n",
    "\n",
    "#Q.2- Split the dataset into training and testing sets using train_test_split() \n",
    "from sklearn.model_selection import train_test_split\n",
    "clf = svm.SVC(gamma=0.001, C=100)\n",
    "x =  digits.data[:-10]\n",
    "y = digits.target[:-10]\n",
    "x_train, x_test, y_train, y_test = train_test_split(x,y,test_size = 0.3,random_state = 0)\n",
    "\n"
   ]
  },
  {
   "cell_type": "code",
   "execution_count": 3,
   "metadata": {},
   "outputs": [],
   "source": [
    "#Q.3- Use SVM with kernels \n",
    "'''\n",
    "a. Linear\n",
    "b. Poly\n",
    "c. Gaussian\n",
    "d. Sigmoid\n",
    "For every kernel, print the following:\n",
    "a. Confusion Matrix\n",
    "b. Classification Report'''\n",
    "\n",
    "#linear\n",
    "svclassifier = svm.SVC(kernel =\"poly\", degree = 1)\n",
    "svclassifier.fit(x_train, y_train)\n",
    "y_pred = svclassifier.predict(x_test)"
   ]
  },
  {
   "cell_type": "code",
   "execution_count": 5,
   "metadata": {},
   "outputs": [
    {
     "name": "stdout",
     "output_type": "stream",
     "text": [
      "[[55  0  0  0  0  0  0  0  0  0]\n",
      " [ 0 59  0  0  0  0  0  0  1  0]\n",
      " [ 0  1 62  0  0  0  0  0  0  0]\n",
      " [ 0  0  0 60  0  0  0  0  0  0]\n",
      " [ 0  0  0  0 48  0  0  0  0  0]\n",
      " [ 0  0  0  1  0 48  0  0  0  1]\n",
      " [ 0  1  0  0  0  0 50  0  0  0]\n",
      " [ 0  0  0  0  0  0  0 49  0  0]\n",
      " [ 0  0  0  1  0  1  0  0 49  2]\n",
      " [ 0  0  0  0  0  1  0  0  1 46]]\n",
      "             precision    recall  f1-score   support\n",
      "\n",
      "          0       1.00      1.00      1.00        55\n",
      "          1       0.97      0.98      0.98        60\n",
      "          2       1.00      0.98      0.99        63\n",
      "          3       0.97      1.00      0.98        60\n",
      "          4       1.00      1.00      1.00        48\n",
      "          5       0.96      0.96      0.96        50\n",
      "          6       1.00      0.98      0.99        51\n",
      "          7       1.00      1.00      1.00        49\n",
      "          8       0.96      0.92      0.94        53\n",
      "          9       0.94      0.96      0.95        48\n",
      "\n",
      "avg / total       0.98      0.98      0.98       537\n",
      "\n"
     ]
    }
   ],
   "source": [
    "from sklearn.metrics import classification_report, confusion_matrix\n",
    "print(confusion_matrix(y_test, y_pred))\n",
    "print(classification_report(y_test, y_pred))"
   ]
  },
  {
   "cell_type": "code",
   "execution_count": 6,
   "metadata": {},
   "outputs": [
    {
     "name": "stdout",
     "output_type": "stream",
     "text": [
      "[[54  0  0  0  1  0  0  0  0  0]\n",
      " [ 0 53  0  2  0  1  1  0  3  0]\n",
      " [ 0  1 61  0  0  0  0  1  0  0]\n",
      " [ 0  0  0 59  0  0  0  0  1  0]\n",
      " [ 0  1  0  0 47  0  0  0  0  0]\n",
      " [ 0  0  0  1  0 47  1  0  0  1]\n",
      " [ 0  1  0  0  0  0 50  0  0  0]\n",
      " [ 0  0  0  0  0  0  0 49  0  0]\n",
      " [ 0  1  0  1  0  0  0  1 48  2]\n",
      " [ 0  1  0  0  0  1  0  0  0 46]]\n",
      "             precision    recall  f1-score   support\n",
      "\n",
      "          0       1.00      0.98      0.99        55\n",
      "          1       0.91      0.88      0.90        60\n",
      "          2       1.00      0.97      0.98        63\n",
      "          3       0.94      0.98      0.96        60\n",
      "          4       0.98      0.98      0.98        48\n",
      "          5       0.96      0.94      0.95        50\n",
      "          6       0.96      0.98      0.97        51\n",
      "          7       0.96      1.00      0.98        49\n",
      "          8       0.92      0.91      0.91        53\n",
      "          9       0.94      0.96      0.95        48\n",
      "\n",
      "avg / total       0.96      0.96      0.96       537\n",
      "\n"
     ]
    }
   ],
   "source": [
    "#polynomial\n",
    "svclassifier = svm.SVC(kernel =\"poly\", degree = 9)\n",
    "svclassifier.fit(x_train, y_train)\n",
    "y_pred = svclassifier.predict(x_test)\n",
    "\n",
    "from sklearn.metrics import classification_report, confusion_matrix\n",
    "print(confusion_matrix(y_test, y_pred))\n",
    "print(classification_report(y_test, y_pred))"
   ]
  },
  {
   "cell_type": "code",
   "execution_count": 7,
   "metadata": {},
   "outputs": [
    {
     "name": "stdout",
     "output_type": "stream",
     "text": [
      "[[32  0  0  0  0 23  0  0  0  0]\n",
      " [ 0 19  0  0  0 41  0  0  0  0]\n",
      " [ 0  0  8  0  0 55  0  0  0  0]\n",
      " [ 0  0  0 13  0 47  0  0  0  0]\n",
      " [ 0  0  0  0 38 10  0  0  0  0]\n",
      " [ 0  0  0  0  0 50  0  0  0  0]\n",
      " [ 0  0  0  0  0 14 37  0  0  0]\n",
      " [ 0  0  0  0  0 26  0 23  0  0]\n",
      " [ 0  0  0  0  0 51  0  0  2  0]\n",
      " [ 0  0  0  0  0 10  0  0  0 38]]\n",
      "             precision    recall  f1-score   support\n",
      "\n",
      "          0       1.00      0.58      0.74        55\n",
      "          1       1.00      0.32      0.48        60\n",
      "          2       1.00      0.13      0.23        63\n",
      "          3       1.00      0.22      0.36        60\n",
      "          4       1.00      0.79      0.88        48\n",
      "          5       0.15      1.00      0.27        50\n",
      "          6       1.00      0.73      0.84        51\n",
      "          7       1.00      0.47      0.64        49\n",
      "          8       1.00      0.04      0.07        53\n",
      "          9       1.00      0.79      0.88        48\n",
      "\n",
      "avg / total       0.92      0.48      0.52       537\n",
      "\n"
     ]
    }
   ],
   "source": [
    "#gaussian\n",
    "svclassifier = svm.SVC(kernel =\"rbf\")\n",
    "svclassifier.fit(x_train, y_train)\n",
    "y_pred = svclassifier.predict(x_test)\n",
    "\n",
    "from sklearn.metrics import classification_report, confusion_matrix\n",
    "print(confusion_matrix(y_test, y_pred))\n",
    "print(classification_report(y_test, y_pred))"
   ]
  },
  {
   "cell_type": "code",
   "execution_count": 8,
   "metadata": {},
   "outputs": [
    {
     "name": "stdout",
     "output_type": "stream",
     "text": [
      "[[ 0  0  0  0  0 55  0  0  0  0]\n",
      " [ 0  0  0  0  5 55  0  0  0  0]\n",
      " [ 0  0  0  0  0 63  0  0  0  0]\n",
      " [ 0  0  0  0  0 60  0  0  0  0]\n",
      " [ 0  0  0  0  0 48  0  0  0  0]\n",
      " [ 0  0  0  0  0 50  0  0  0  0]\n",
      " [ 0  0  0  0  0 51  0  0  0  0]\n",
      " [ 0  0  0  0  0 49  0  0  0  0]\n",
      " [ 0  0  0  0  0 53  0  0  0  0]\n",
      " [ 0  0  0  0  2 46  0  0  0  0]]\n",
      "             precision    recall  f1-score   support\n",
      "\n",
      "          0       0.00      0.00      0.00        55\n",
      "          1       0.00      0.00      0.00        60\n",
      "          2       0.00      0.00      0.00        63\n",
      "          3       0.00      0.00      0.00        60\n",
      "          4       0.00      0.00      0.00        48\n",
      "          5       0.09      1.00      0.17        50\n",
      "          6       0.00      0.00      0.00        51\n",
      "          7       0.00      0.00      0.00        49\n",
      "          8       0.00      0.00      0.00        53\n",
      "          9       0.00      0.00      0.00        48\n",
      "\n",
      "avg / total       0.01      0.09      0.02       537\n",
      "\n"
     ]
    },
    {
     "name": "stderr",
     "output_type": "stream",
     "text": [
      "E:\\anaconda\\lib\\site-packages\\sklearn\\metrics\\classification.py:1135: UndefinedMetricWarning: Precision and F-score are ill-defined and being set to 0.0 in labels with no predicted samples.\n",
      "  'precision', 'predicted', average, warn_for)\n"
     ]
    }
   ],
   "source": [
    "#sigmoid\n",
    "svclassifier = svm.SVC(kernel =\"sigmoid\")\n",
    "svclassifier.fit(x_train, y_train)\n",
    "y_pred = svclassifier.predict(x_test)\n",
    "\n",
    "from sklearn.metrics import classification_report, confusion_matrix\n",
    "print(confusion_matrix(y_test, y_pred))\n",
    "print(classification_report(y_test, y_pred))"
   ]
  },
  {
   "cell_type": "code",
   "execution_count": null,
   "metadata": {},
   "outputs": [],
   "source": []
  }
 ],
 "metadata": {
  "kernelspec": {
   "display_name": "Python 3",
   "language": "python",
   "name": "python3"
  },
  "language_info": {
   "codemirror_mode": {
    "name": "ipython",
    "version": 3
   },
   "file_extension": ".py",
   "mimetype": "text/x-python",
   "name": "python",
   "nbconvert_exporter": "python",
   "pygments_lexer": "ipython3",
   "version": "3.6.5"
  }
 },
 "nbformat": 4,
 "nbformat_minor": 2
}
