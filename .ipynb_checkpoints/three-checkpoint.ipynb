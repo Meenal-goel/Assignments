{
 "cells": [
  {
   "cell_type": "code",
   "execution_count": 20,
   "metadata": {},
   "outputs": [
    {
     "name": "stdout",
     "output_type": "stream",
     "text": [
      "P(B|A) =  0.0303030303030303\n"
     ]
    }
   ],
   "source": [
    "#Q.1 - Consider the below given probabilities: \n",
    "'''P(A) = 11 / 36\n",
    "P(B) = 6 / 36\n",
    "P(A|B) = 2 / 36\n",
    "Write a function in Python which takes 3 probabilities as argument and outputs the Conditional probability P(B|A).'''\n",
    "\n",
    "pA = float(11/36)\n",
    "pB = float(6/36)\n",
    "pAgB = float(2/36) #g is equivalent to |\n",
    "\n",
    "#function to calcuate conditional probability\n",
    "def cond_prob():\n",
    "    \n",
    "    pAiB = float(pAgB * pB) # i is equivalent to intersection\n",
    "    pBgA = float((pAiB)/pA)\n",
    "    print(\"P(B|A) = \",pBgA)\n",
    "try:\n",
    "    cond_prob()\n",
    "except Exception as e:\n",
    "    print(e)"
   ]
  },
  {
   "cell_type": "code",
   "execution_count": null,
   "metadata": {},
   "outputs": [],
   "source": [
    "'''Q.2 - Bag I contains 4 white and 6 black balls while another Bag II contains 4 white and 3 black balls. One ball is drawn at random from one of the bags and it is found to be black. Find the probability that it was drawn from Bag I.\n",
    "\n",
    "#probability of getting a black ball given bag1 is selected\n",
    "P(B|B1) = 6/10\n",
    "\n",
    "#probability of selecting bag1\n",
    "P(B1) = 1/2\n",
    "\n",
    "#probability of selecting bag2\n",
    "P(B2) = 1/2\n",
    "\n",
    "#probability of getting black ball given bag2 is selected\n",
    "P(B|B2) = 3/7\n",
    "\n",
    "#probability of bag1 being chosen given black ball is found\n",
    "#USING BAYE'S THEOREM\n",
    "P(B1|B) = (P(B|B1)*P(B1))/(P(B1)*P(B|B1))+(P(B2)*P(B|B2))\n",
    "P(B1|B) = ((6/10)*(1/2))/((1/2-6/10)+(1/2*3/7))\n",
    "P(B1|B) =  7/12\n",
    "'''\n"
   ]
  },
  {
   "cell_type": "code",
   "execution_count": null,
   "metadata": {},
   "outputs": [],
   "source": [
    "'''Q.3 - A man is known to speak truth 2 out of 3 times. He throws a die and reports that number obtained is a four. Find the probability that the number obtained is actually a four.\n",
    "\n",
    "#probability of telling truth\n",
    "P(T) = 2/3 \n",
    "\n",
    "#probability of telling lie\n",
    "P(L) = 1 - 2/3 = 1/3\n",
    "\n",
    "#probabilty of getting four actually\n",
    "P(F|T) = 1/6\n",
    "\n",
    "#probability of getting four otherwise\n",
    "P(F|L) = 1 - 1/6 = 5/6\n",
    "\n",
    "#probability of telling truth ,given it's a four\n",
    "P(T|F) = (P(F|T) * P(T)) / (((P(T) * P(F|T)) + (P(L) * P(F|L))))\n",
    "P(T|F) = ((1/6) * (2/3)) / ((2/3 * 1/6) + (1/3 * 5/6))\n",
    "P(T|F) = 2/7\n",
    "\n",
    "'''"
   ]
  }
 ],
 "metadata": {
  "kernelspec": {
   "display_name": "Python 3",
   "language": "python",
   "name": "python3"
  },
  "language_info": {
   "codemirror_mode": {
    "name": "ipython",
    "version": 3
   },
   "file_extension": ".py",
   "mimetype": "text/x-python",
   "name": "python",
   "nbconvert_exporter": "python",
   "pygments_lexer": "ipython3",
   "version": "3.6.5"
  }
 },
 "nbformat": 4,
 "nbformat_minor": 2
}
