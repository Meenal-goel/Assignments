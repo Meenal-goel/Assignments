{
 "cells": [
  {
   "cell_type": "code",
   "execution_count": null,
   "metadata": {},
   "outputs": [],
   "source": [
    "'''Q.1- Consider the following diagram:\n",
    "where\n",
    "a, b, and c are inputs\n",
    "u = a * b\n",
    "v = a * c\n",
    "w = b + c\n",
    "F = u + v - w\n",
    "\n",
    "What is the value of F? Give answer in the simplest form.'''\n",
    "\n",
    "'''F = u + v - w\n",
    "  = (a * b) + (a * c) - (b + c)\n",
    "  = ab + ac - (b + c)\n",
    "  = a(b+c)-(b+c)\n",
    "  = (b+c)(a-1) #answer\n",
    "'''"
   ]
  },
  {
   "cell_type": "code",
   "execution_count": null,
   "metadata": {},
   "outputs": [],
   "source": [
    "'''Q.2- The input values and weights, along with the activation function, are given below. \\\n",
    "Find the values of x and output (f(x)). \n",
    "If bias is -1.1, then what is the output? Is there any change? Why do we need bias? '''\n",
    "\n",
    "'''\n",
    "f(w,x)=1 / 1+e^(−(w0x0+w1x1+w2x2+b))\n",
    "output of neuron = (2.7 * -0.06) + (-8.6 * -2.5) + (0.002 * 1.4) + (-1.1)\n",
    "                 = -0.162 + 21.5 + 0.0028 - 1.1\n",
    "                 = 213.7408\n",
    "           f(w,x)= 1 / 1+e^(−(213.7408))\n",
    "                 = -0.00172411494\n",
    "                 \n",
    "The above network takes numerical inputs x0 , x1, x2 and has weights w0,w1 and w2 associated with those inputs.\\\n",
    "Additionally, there is another input 1 with weight b (called the Bias) associated with it.\n",
    "Importance of Bias: The main function of Bias is to provide every node with a trainable constant value\\\n",
    "(in addition to the normal inputs that the node receives)\n",
    "'''  "
   ]
  }
 ],
 "metadata": {
  "kernelspec": {
   "display_name": "Python 3",
   "language": "python",
   "name": "python3"
  },
  "language_info": {
   "codemirror_mode": {
    "name": "ipython",
    "version": 3
   },
   "file_extension": ".py",
   "mimetype": "text/x-python",
   "name": "python",
   "nbconvert_exporter": "python",
   "pygments_lexer": "ipython3",
   "version": "3.6.5"
  }
 },
 "nbformat": 4,
 "nbformat_minor": 2
}
